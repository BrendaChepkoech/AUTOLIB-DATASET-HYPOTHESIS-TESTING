{
  "nbformat": 4,
  "nbformat_minor": 0,
  "metadata": {
    "colab": {
      "name": "Brenda Chepkoech  week 4 IP Hypothesis testing",
      "provenance": [],
      "collapsed_sections": [],
      "include_colab_link": true
    },
    "kernelspec": {
      "name": "python3",
      "display_name": "Python 3"
    }
  },
  "cells": [
    {
      "cell_type": "markdown",
      "metadata": {
        "id": "view-in-github",
        "colab_type": "text"
      },
      "source": [
        "<a href=\"https://colab.research.google.com/github/BrendaChepkoech/WEEK-4-IP-AUTOLIB-HYPOTHESIS-TESTING/blob/main/Brenda_Chepkoech_week_4_IP_Hypothesis_testing.ipynb\" target=\"_parent\"><img src=\"https://colab.research.google.com/assets/colab-badge.svg\" alt=\"Open In Colab\"/></a>"
      ]
    },
    {
      "cell_type": "markdown",
      "metadata": {
        "id": "kLG2VTrnTvYL"
      },
      "source": [
        "## 1. Defining the Question"
      ]
    },
    {
      "cell_type": "markdown",
      "metadata": {
        "id": "XecOwPNorl2W"
      },
      "source": [
        "### a) Specifying the Data Analytic Question"
      ]
    },
    {
      "cell_type": "markdown",
      "metadata": {
        "id": "9ozBnKfehSAw"
      },
      "source": [
        "As a Data Scientist for the Autolib electric car-sharing service company, investigate a claim about the blue cars from the provided Autolib dataset.\n",
        "\n",
        "**Null Hypothesis** :\n",
        "The number of Blue cars taken on weekdays are more than the number of Blue cars taken on weekends\n",
        "\n",
        "**Alternative Hypothesis** : \n",
        "The number of Blue cars taken on week days are not more than the number of Blue cars taken on weekends.\n"
      ]
    },
    {
      "cell_type": "markdown",
      "metadata": {
        "id": "J4wfHZwQrs-t"
      },
      "source": [
        "### b) Defining the Metric for Success"
      ]
    },
    {
      "cell_type": "markdown",
      "metadata": {
        "id": "cpiONJ0A-p0M"
      },
      "source": [
        "\n",
        "To be able to carry out hypothesis testing as our solution to the above data analytic question and be able to decide whether to reject or fail to reject the null hypothesis."
      ]
    },
    {
      "cell_type": "markdown",
      "metadata": {
        "id": "a9BPYqunry97"
      },
      "source": [
        "### c) Understanding the context "
      ]
    },
    {
      "cell_type": "markdown",
      "metadata": {
        "id": "yYqTrFX8-thc"
      },
      "source": [
        "Autolib is an electric car-sharing service company in Paris, France. It deals with electric cars such as Blue cars, Utilib and Utilib 1.4\n",
        "\n",
        "We are tasked to investigate a claim about the blue cars from the provided Autolib dataset."
      ]
    },
    {
      "cell_type": "markdown",
      "metadata": {
        "id": "7KMRBJ7zr9HD"
      },
      "source": [
        "### d) Recording the Experimental Design"
      ]
    },
    {
      "cell_type": "markdown",
      "metadata": {
        "id": "TdOafpEI_PH3"
      },
      "source": [
        "\n",
        "Below are the steps that I will take\n",
        "*   Loading the dataset into our eviroment\n",
        "*   Performing data cleaning\n",
        "*   Exploratory Data Analysis\n",
        "*   Hypothesis testing\n",
        "*   Conclusion\n",
        "\n",
        "\n"
      ]
    },
    {
      "cell_type": "markdown",
      "metadata": {
        "id": "zSGyg6kWsBUl"
      },
      "source": [
        "### e) Data Relevance"
      ]
    },
    {
      "cell_type": "markdown",
      "metadata": {
        "id": "5DRBN0YZ-7Zn"
      },
      "source": [
        "The dataset we have been provided is relevant because data such as the number of blue cars returned or taken, the postal code to show the location and the dates are all necessary in helping us understand the electric car usage in Paris."
      ]
    },
    {
      "cell_type": "markdown",
      "metadata": {
        "id": "iUNbvIvnT7ep"
      },
      "source": [
        "#2.Reading the Data"
      ]
    },
    {
      "cell_type": "code",
      "metadata": {
        "id": "omcvmqR2FFGi"
      },
      "source": [
        "# Step 1: Importing Libraries\n",
        "import pandas as pd\n",
        "pd.options.mode.chained_assignment=None\n",
        "import numpy as np\n",
        "import seaborn as sns\n",
        "import matplotlib\n",
        "import matplotlib.pyplot as plt\n",
        "%matplotlib inline\n",
        "from scipy.stats import norm\n",
        "from scipy import stats"
      ],
      "execution_count": 159,
      "outputs": []
    },
    {
      "cell_type": "code",
      "metadata": {
        "id": "XJn2KjW-WMlG",
        "colab": {
          "base_uri": "https://localhost:8080/",
          "height": 149
        },
        "outputId": "9f03e652-5ecc-4d9e-96f0-4c1052033066"
      },
      "source": [
        "# step 2:Loading the Data from the source i.e. csv\n",
        "# ---\n",
        "#Dataset url=\"http://bit.ly/DSCoreAutolibDataset\"\n",
        "df= pd.read_csv(\"http://bit.ly/DSCoreAutolibDataset\")\n",
        "df.head(2)"
      ],
      "execution_count": 160,
      "outputs": [
        {
          "output_type": "execute_result",
          "data": {
            "text/html": [
              "<div>\n",
              "<style scoped>\n",
              "    .dataframe tbody tr th:only-of-type {\n",
              "        vertical-align: middle;\n",
              "    }\n",
              "\n",
              "    .dataframe tbody tr th {\n",
              "        vertical-align: top;\n",
              "    }\n",
              "\n",
              "    .dataframe thead th {\n",
              "        text-align: right;\n",
              "    }\n",
              "</style>\n",
              "<table border=\"1\" class=\"dataframe\">\n",
              "  <thead>\n",
              "    <tr style=\"text-align: right;\">\n",
              "      <th></th>\n",
              "      <th>Postal code</th>\n",
              "      <th>date</th>\n",
              "      <th>n_daily_data_points</th>\n",
              "      <th>dayOfWeek</th>\n",
              "      <th>day_type</th>\n",
              "      <th>BlueCars_taken_sum</th>\n",
              "      <th>BlueCars_returned_sum</th>\n",
              "      <th>Utilib_taken_sum</th>\n",
              "      <th>Utilib_returned_sum</th>\n",
              "      <th>Utilib_14_taken_sum</th>\n",
              "      <th>Utilib_14_returned_sum</th>\n",
              "      <th>Slots_freed_sum</th>\n",
              "      <th>Slots_taken_sum</th>\n",
              "    </tr>\n",
              "  </thead>\n",
              "  <tbody>\n",
              "    <tr>\n",
              "      <th>0</th>\n",
              "      <td>75001</td>\n",
              "      <td>1/1/2018</td>\n",
              "      <td>1440</td>\n",
              "      <td>0</td>\n",
              "      <td>weekday</td>\n",
              "      <td>110</td>\n",
              "      <td>103</td>\n",
              "      <td>3</td>\n",
              "      <td>2</td>\n",
              "      <td>10</td>\n",
              "      <td>9</td>\n",
              "      <td>22</td>\n",
              "      <td>20</td>\n",
              "    </tr>\n",
              "    <tr>\n",
              "      <th>1</th>\n",
              "      <td>75001</td>\n",
              "      <td>1/2/2018</td>\n",
              "      <td>1438</td>\n",
              "      <td>1</td>\n",
              "      <td>weekday</td>\n",
              "      <td>98</td>\n",
              "      <td>94</td>\n",
              "      <td>1</td>\n",
              "      <td>1</td>\n",
              "      <td>8</td>\n",
              "      <td>8</td>\n",
              "      <td>23</td>\n",
              "      <td>22</td>\n",
              "    </tr>\n",
              "  </tbody>\n",
              "</table>\n",
              "</div>"
            ],
            "text/plain": [
              "   Postal code      date  ...  Slots_freed_sum  Slots_taken_sum\n",
              "0        75001  1/1/2018  ...               22               20\n",
              "1        75001  1/2/2018  ...               23               22\n",
              "\n",
              "[2 rows x 13 columns]"
            ]
          },
          "metadata": {},
          "execution_count": 160
        }
      ]
    },
    {
      "cell_type": "code",
      "metadata": {
        "colab": {
          "base_uri": "https://localhost:8080/"
        },
        "id": "hNwhfSzzFkak",
        "outputId": "18a2c9e4-93d4-408e-d147-505c0031138a"
      },
      "source": [
        "#Step 3: Loading the Variable Definitions dataset\n",
        "df2= pd.read_csv(\"columns_explanation.csv\")\n",
        "df2.head"
      ],
      "execution_count": 161,
      "outputs": [
        {
          "output_type": "execute_result",
          "data": {
            "text/plain": [
              "<bound method NDFrame.head of                Column name                                        explanation\n",
              "0              Postal code                 postal code of the area (in Paris)\n",
              "1                     date                        date of the row aggregation\n",
              "2      n_daily_data_points  number of daily data poinst that were availabl...\n",
              "3                dayOfWeek     identifier of weekday (0: Monday -> 6: Sunday)\n",
              "4                 day_type                                 weekday or weekend\n",
              "5       BlueCars_taken_sum    Number of bluecars taken that date in that area\n",
              "6    BlueCars_returned_sum  Number of bluecars returned that date in that ...\n",
              "7         Utilib_taken_sum      Number of Utilib taken that date in that area\n",
              "8      Utilib_returned_sum   Number of Utilib returned that date in that area\n",
              "9      Utilib_14_taken_sum  Number of Utilib 1.4 taken that date in that area\n",
              "10  Utilib_14_returned_sum  Number of Utilib 1.4 returned that date in tha...\n",
              "11         Slots_freed_sum  Number of recharging slots released that date ...\n",
              "12         Slots_taken_sum  Number of rechargign slots taken that date in ...>"
            ]
          },
          "metadata": {},
          "execution_count": 161
        }
      ]
    },
    {
      "cell_type": "markdown",
      "metadata": {
        "id": "OI3P3YnHUEBk"
      },
      "source": [
        "# 3.Checking the Data"
      ]
    },
    {
      "cell_type": "code",
      "metadata": {
        "id": "YjSVNwgptHxY",
        "colab": {
          "base_uri": "https://localhost:8080/"
        },
        "outputId": "b62eb655-b7ec-47a8-d746-46ef57836ad5"
      },
      "source": [
        "# Determining the no. of records in our dataset\n",
        "df.shape"
      ],
      "execution_count": 162,
      "outputs": [
        {
          "output_type": "execute_result",
          "data": {
            "text/plain": [
              "(16085, 13)"
            ]
          },
          "metadata": {},
          "execution_count": 162
        }
      ]
    },
    {
      "cell_type": "code",
      "metadata": {
        "id": "xHhTw5eKWr0n",
        "colab": {
          "base_uri": "https://localhost:8080/",
          "height": 212
        },
        "outputId": "f05c22d7-403d-4442-8532-00ce1e117fb1"
      },
      "source": [
        "# Previewing the top of our dataset\n",
        "df.head(4)"
      ],
      "execution_count": 163,
      "outputs": [
        {
          "output_type": "execute_result",
          "data": {
            "text/html": [
              "<div>\n",
              "<style scoped>\n",
              "    .dataframe tbody tr th:only-of-type {\n",
              "        vertical-align: middle;\n",
              "    }\n",
              "\n",
              "    .dataframe tbody tr th {\n",
              "        vertical-align: top;\n",
              "    }\n",
              "\n",
              "    .dataframe thead th {\n",
              "        text-align: right;\n",
              "    }\n",
              "</style>\n",
              "<table border=\"1\" class=\"dataframe\">\n",
              "  <thead>\n",
              "    <tr style=\"text-align: right;\">\n",
              "      <th></th>\n",
              "      <th>Postal code</th>\n",
              "      <th>date</th>\n",
              "      <th>n_daily_data_points</th>\n",
              "      <th>dayOfWeek</th>\n",
              "      <th>day_type</th>\n",
              "      <th>BlueCars_taken_sum</th>\n",
              "      <th>BlueCars_returned_sum</th>\n",
              "      <th>Utilib_taken_sum</th>\n",
              "      <th>Utilib_returned_sum</th>\n",
              "      <th>Utilib_14_taken_sum</th>\n",
              "      <th>Utilib_14_returned_sum</th>\n",
              "      <th>Slots_freed_sum</th>\n",
              "      <th>Slots_taken_sum</th>\n",
              "    </tr>\n",
              "  </thead>\n",
              "  <tbody>\n",
              "    <tr>\n",
              "      <th>0</th>\n",
              "      <td>75001</td>\n",
              "      <td>1/1/2018</td>\n",
              "      <td>1440</td>\n",
              "      <td>0</td>\n",
              "      <td>weekday</td>\n",
              "      <td>110</td>\n",
              "      <td>103</td>\n",
              "      <td>3</td>\n",
              "      <td>2</td>\n",
              "      <td>10</td>\n",
              "      <td>9</td>\n",
              "      <td>22</td>\n",
              "      <td>20</td>\n",
              "    </tr>\n",
              "    <tr>\n",
              "      <th>1</th>\n",
              "      <td>75001</td>\n",
              "      <td>1/2/2018</td>\n",
              "      <td>1438</td>\n",
              "      <td>1</td>\n",
              "      <td>weekday</td>\n",
              "      <td>98</td>\n",
              "      <td>94</td>\n",
              "      <td>1</td>\n",
              "      <td>1</td>\n",
              "      <td>8</td>\n",
              "      <td>8</td>\n",
              "      <td>23</td>\n",
              "      <td>22</td>\n",
              "    </tr>\n",
              "    <tr>\n",
              "      <th>2</th>\n",
              "      <td>75001</td>\n",
              "      <td>1/3/2018</td>\n",
              "      <td>1439</td>\n",
              "      <td>2</td>\n",
              "      <td>weekday</td>\n",
              "      <td>138</td>\n",
              "      <td>139</td>\n",
              "      <td>0</td>\n",
              "      <td>0</td>\n",
              "      <td>2</td>\n",
              "      <td>2</td>\n",
              "      <td>27</td>\n",
              "      <td>27</td>\n",
              "    </tr>\n",
              "    <tr>\n",
              "      <th>3</th>\n",
              "      <td>75001</td>\n",
              "      <td>1/4/2018</td>\n",
              "      <td>1320</td>\n",
              "      <td>3</td>\n",
              "      <td>weekday</td>\n",
              "      <td>104</td>\n",
              "      <td>104</td>\n",
              "      <td>2</td>\n",
              "      <td>2</td>\n",
              "      <td>9</td>\n",
              "      <td>8</td>\n",
              "      <td>25</td>\n",
              "      <td>21</td>\n",
              "    </tr>\n",
              "  </tbody>\n",
              "</table>\n",
              "</div>"
            ],
            "text/plain": [
              "   Postal code      date  ...  Slots_freed_sum  Slots_taken_sum\n",
              "0        75001  1/1/2018  ...               22               20\n",
              "1        75001  1/2/2018  ...               23               22\n",
              "2        75001  1/3/2018  ...               27               27\n",
              "3        75001  1/4/2018  ...               25               21\n",
              "\n",
              "[4 rows x 13 columns]"
            ]
          },
          "metadata": {},
          "execution_count": 163
        }
      ]
    },
    {
      "cell_type": "code",
      "metadata": {
        "id": "e9AzGcZFrIIr",
        "colab": {
          "base_uri": "https://localhost:8080/",
          "height": 243
        },
        "outputId": "99b6654f-beab-4566-f310-22e4d7b24fcb"
      },
      "source": [
        "# Previewing the bottom of our dataset\n",
        "df.tail()"
      ],
      "execution_count": 164,
      "outputs": [
        {
          "output_type": "execute_result",
          "data": {
            "text/html": [
              "<div>\n",
              "<style scoped>\n",
              "    .dataframe tbody tr th:only-of-type {\n",
              "        vertical-align: middle;\n",
              "    }\n",
              "\n",
              "    .dataframe tbody tr th {\n",
              "        vertical-align: top;\n",
              "    }\n",
              "\n",
              "    .dataframe thead th {\n",
              "        text-align: right;\n",
              "    }\n",
              "</style>\n",
              "<table border=\"1\" class=\"dataframe\">\n",
              "  <thead>\n",
              "    <tr style=\"text-align: right;\">\n",
              "      <th></th>\n",
              "      <th>Postal code</th>\n",
              "      <th>date</th>\n",
              "      <th>n_daily_data_points</th>\n",
              "      <th>dayOfWeek</th>\n",
              "      <th>day_type</th>\n",
              "      <th>BlueCars_taken_sum</th>\n",
              "      <th>BlueCars_returned_sum</th>\n",
              "      <th>Utilib_taken_sum</th>\n",
              "      <th>Utilib_returned_sum</th>\n",
              "      <th>Utilib_14_taken_sum</th>\n",
              "      <th>Utilib_14_returned_sum</th>\n",
              "      <th>Slots_freed_sum</th>\n",
              "      <th>Slots_taken_sum</th>\n",
              "    </tr>\n",
              "  </thead>\n",
              "  <tbody>\n",
              "    <tr>\n",
              "      <th>16080</th>\n",
              "      <td>95880</td>\n",
              "      <td>6/15/2018</td>\n",
              "      <td>1440</td>\n",
              "      <td>4</td>\n",
              "      <td>weekday</td>\n",
              "      <td>15</td>\n",
              "      <td>10</td>\n",
              "      <td>0</td>\n",
              "      <td>0</td>\n",
              "      <td>2</td>\n",
              "      <td>3</td>\n",
              "      <td>0</td>\n",
              "      <td>0</td>\n",
              "    </tr>\n",
              "    <tr>\n",
              "      <th>16081</th>\n",
              "      <td>95880</td>\n",
              "      <td>6/16/2018</td>\n",
              "      <td>1440</td>\n",
              "      <td>5</td>\n",
              "      <td>weekend</td>\n",
              "      <td>19</td>\n",
              "      <td>19</td>\n",
              "      <td>0</td>\n",
              "      <td>0</td>\n",
              "      <td>2</td>\n",
              "      <td>1</td>\n",
              "      <td>0</td>\n",
              "      <td>0</td>\n",
              "    </tr>\n",
              "    <tr>\n",
              "      <th>16082</th>\n",
              "      <td>95880</td>\n",
              "      <td>6/17/2018</td>\n",
              "      <td>1440</td>\n",
              "      <td>6</td>\n",
              "      <td>weekend</td>\n",
              "      <td>33</td>\n",
              "      <td>35</td>\n",
              "      <td>1</td>\n",
              "      <td>1</td>\n",
              "      <td>0</td>\n",
              "      <td>0</td>\n",
              "      <td>0</td>\n",
              "      <td>0</td>\n",
              "    </tr>\n",
              "    <tr>\n",
              "      <th>16083</th>\n",
              "      <td>95880</td>\n",
              "      <td>6/18/2018</td>\n",
              "      <td>1440</td>\n",
              "      <td>0</td>\n",
              "      <td>weekday</td>\n",
              "      <td>11</td>\n",
              "      <td>14</td>\n",
              "      <td>3</td>\n",
              "      <td>5</td>\n",
              "      <td>2</td>\n",
              "      <td>2</td>\n",
              "      <td>0</td>\n",
              "      <td>0</td>\n",
              "    </tr>\n",
              "    <tr>\n",
              "      <th>16084</th>\n",
              "      <td>95880</td>\n",
              "      <td>6/19/2018</td>\n",
              "      <td>1370</td>\n",
              "      <td>1</td>\n",
              "      <td>weekday</td>\n",
              "      <td>2</td>\n",
              "      <td>2</td>\n",
              "      <td>2</td>\n",
              "      <td>1</td>\n",
              "      <td>0</td>\n",
              "      <td>0</td>\n",
              "      <td>0</td>\n",
              "      <td>0</td>\n",
              "    </tr>\n",
              "  </tbody>\n",
              "</table>\n",
              "</div>"
            ],
            "text/plain": [
              "       Postal code       date  ...  Slots_freed_sum  Slots_taken_sum\n",
              "16080        95880  6/15/2018  ...                0                0\n",
              "16081        95880  6/16/2018  ...                0                0\n",
              "16082        95880  6/17/2018  ...                0                0\n",
              "16083        95880  6/18/2018  ...                0                0\n",
              "16084        95880  6/19/2018  ...                0                0\n",
              "\n",
              "[5 rows x 13 columns]"
            ]
          },
          "metadata": {},
          "execution_count": 164
        }
      ]
    },
    {
      "cell_type": "code",
      "metadata": {
        "id": "n8-dW4sQWzbc",
        "colab": {
          "base_uri": "https://localhost:8080/"
        },
        "outputId": "801856da-0601-488f-9e26-55df42c1ac6d"
      },
      "source": [
        "# Checking whether each column has an appropriate datatype\n",
        "df.info()"
      ],
      "execution_count": 165,
      "outputs": [
        {
          "output_type": "stream",
          "name": "stdout",
          "text": [
            "<class 'pandas.core.frame.DataFrame'>\n",
            "RangeIndex: 16085 entries, 0 to 16084\n",
            "Data columns (total 13 columns):\n",
            " #   Column                  Non-Null Count  Dtype \n",
            "---  ------                  --------------  ----- \n",
            " 0   Postal code             16085 non-null  int64 \n",
            " 1   date                    16085 non-null  object\n",
            " 2   n_daily_data_points     16085 non-null  int64 \n",
            " 3   dayOfWeek               16085 non-null  int64 \n",
            " 4   day_type                16085 non-null  object\n",
            " 5   BlueCars_taken_sum      16085 non-null  int64 \n",
            " 6   BlueCars_returned_sum   16085 non-null  int64 \n",
            " 7   Utilib_taken_sum        16085 non-null  int64 \n",
            " 8   Utilib_returned_sum     16085 non-null  int64 \n",
            " 9   Utilib_14_taken_sum     16085 non-null  int64 \n",
            " 10  Utilib_14_returned_sum  16085 non-null  int64 \n",
            " 11  Slots_freed_sum         16085 non-null  int64 \n",
            " 12  Slots_taken_sum         16085 non-null  int64 \n",
            "dtypes: int64(11), object(2)\n",
            "memory usage: 1.6+ MB\n"
          ]
        }
      ]
    },
    {
      "cell_type": "code",
      "metadata": {
        "colab": {
          "base_uri": "https://localhost:8080/"
        },
        "id": "_yVB3Aj-Hn-L",
        "outputId": "249f893d-68d4-4f22-cab6-d3c167ca0ae7"
      },
      "source": [
        "# Getting to know more about the dataset by accessing its information\n",
        "print(df.columns)"
      ],
      "execution_count": 166,
      "outputs": [
        {
          "output_type": "stream",
          "name": "stdout",
          "text": [
            "Index(['Postal code', 'date', 'n_daily_data_points', 'dayOfWeek', 'day_type',\n",
            "       'BlueCars_taken_sum', 'BlueCars_returned_sum', 'Utilib_taken_sum',\n",
            "       'Utilib_returned_sum', 'Utilib_14_taken_sum', 'Utilib_14_returned_sum',\n",
            "       'Slots_freed_sum', 'Slots_taken_sum'],\n",
            "      dtype='object')\n"
          ]
        }
      ]
    },
    {
      "cell_type": "markdown",
      "metadata": {
        "id": "FlBMxEDBUc9B"
      },
      "source": [
        "#4.Tidying the Dataset"
      ]
    },
    {
      "cell_type": "code",
      "metadata": {
        "colab": {
          "base_uri": "https://localhost:8080/",
          "height": 583
        },
        "id": "twhoBG-OMuX0",
        "outputId": "3132a1ae-ded1-49de-fd55-859d53396481"
      },
      "source": [
        "# We can identify outliers in our data using boxplots\n",
        "fig, (ax1, ax2) = plt.subplots(2,1, figsize=(10, 7))\n",
        "fig.suptitle('Boxplots')\n",
        "sns.boxplot(df['BlueCars_taken_sum'], ax=ax1)\n",
        "sns.boxplot(df['BlueCars_returned_sum'], ax=ax2)\n",
        "plt.show()"
      ],
      "execution_count": 167,
      "outputs": [
        {
          "output_type": "stream",
          "name": "stderr",
          "text": [
            "/usr/local/lib/python3.7/dist-packages/seaborn/_decorators.py:43: FutureWarning: Pass the following variable as a keyword arg: x. From version 0.12, the only valid positional argument will be `data`, and passing other arguments without an explicit keyword will result in an error or misinterpretation.\n",
            "  FutureWarning\n",
            "/usr/local/lib/python3.7/dist-packages/seaborn/_decorators.py:43: FutureWarning: Pass the following variable as a keyword arg: x. From version 0.12, the only valid positional argument will be `data`, and passing other arguments without an explicit keyword will result in an error or misinterpretation.\n",
            "  FutureWarning\n"
          ]
        },
        {
          "output_type": "display_data",
          "data": {
            "image/png": "[encoded data removed]",
            "text/plain": [
              "<Figure size 720x504 with 2 Axes>"
            ]
          },
          "metadata": {
            "needs_background": "light"
          }
        }
      ]
    },
    {
      "cell_type": "code",
      "metadata": {
        "id": "zCyenu_wK23Q"
      },
      "source": [
        "# Checking for Anomalies\n",
        "#\n",
        "for value in df.columns:\n",
        "    df[value].unique()"
      ],
      "execution_count": 168,
      "outputs": []
    },
    {
      "cell_type": "code",
      "metadata": {
        "id": "4UFBYiovK4u_",
        "colab": {
          "base_uri": "https://localhost:8080/"
        },
        "outputId": "c68e300a-8a70-4d73-e9ba-e2074cd0cbc6"
      },
      "source": [
        "# Identifying the Missing Data\n",
        "#\n",
        "df.isnull().sum()"
      ],
      "execution_count": 169,
      "outputs": [
        {
          "output_type": "execute_result",
          "data": {
            "text/plain": [
              "Postal code               0\n",
              "date                      0\n",
              "n_daily_data_points       0\n",
              "dayOfWeek                 0\n",
              "day_type                  0\n",
              "BlueCars_taken_sum        0\n",
              "BlueCars_returned_sum     0\n",
              "Utilib_taken_sum          0\n",
              "Utilib_returned_sum       0\n",
              "Utilib_14_taken_sum       0\n",
              "Utilib_14_returned_sum    0\n",
              "Slots_freed_sum           0\n",
              "Slots_taken_sum           0\n",
              "dtype: int64"
            ]
          },
          "metadata": {},
          "execution_count": 169
        }
      ]
    },
    {
      "cell_type": "code",
      "metadata": {
        "id": "BdnIi_LhK78S",
        "colab": {
          "base_uri": "https://localhost:8080/"
        },
        "outputId": "3a61eb63-f2ba-417f-bd9a-f361a3a0234b"
      },
      "source": [
        "# Dealing with the Missing Data\n",
        "#checking for duplicates\n",
        "df.duplicated().sum()"
      ],
      "execution_count": 170,
      "outputs": [
        {
          "output_type": "execute_result",
          "data": {
            "text/plain": [
              "0"
            ]
          },
          "metadata": {},
          "execution_count": 170
        }
      ]
    },
    {
      "cell_type": "code",
      "metadata": {
        "colab": {
          "base_uri": "https://localhost:8080/",
          "height": 243
        },
        "id": "hbiEBmZfg7d3",
        "outputId": "67bec931-90a1-483c-cfe5-dd5d21790160"
      },
      "source": [
        "# LETS identify the days of the week by their actual names\n",
        "df['day_of_week'] = df['dayOfWeek'].replace({0:'Monday', 1:'Tuesday', 2:'Wednesday', 3:'Thursday', 4:'Friday', 5:'Saturday', 6:'Sunday'})\n",
        "df.head()"
      ],
      "execution_count": 171,
      "outputs": [
        {
          "output_type": "execute_result",
          "data": {
            "text/html": [
              "<div>\n",
              "<style scoped>\n",
              "    .dataframe tbody tr th:only-of-type {\n",
              "        vertical-align: middle;\n",
              "    }\n",
              "\n",
              "    .dataframe tbody tr th {\n",
              "        vertical-align: top;\n",
              "    }\n",
              "\n",
              "    .dataframe thead th {\n",
              "        text-align: right;\n",
              "    }\n",
              "</style>\n",
              "<table border=\"1\" class=\"dataframe\">\n",
              "  <thead>\n",
              "    <tr style=\"text-align: right;\">\n",
              "      <th></th>\n",
              "      <th>Postal code</th>\n",
              "      <th>date</th>\n",
              "      <th>n_daily_data_points</th>\n",
              "      <th>dayOfWeek</th>\n",
              "      <th>day_type</th>\n",
              "      <th>BlueCars_taken_sum</th>\n",
              "      <th>BlueCars_returned_sum</th>\n",
              "      <th>Utilib_taken_sum</th>\n",
              "      <th>Utilib_returned_sum</th>\n",
              "      <th>Utilib_14_taken_sum</th>\n",
              "      <th>Utilib_14_returned_sum</th>\n",
              "      <th>Slots_freed_sum</th>\n",
              "      <th>Slots_taken_sum</th>\n",
              "      <th>day_of_week</th>\n",
              "    </tr>\n",
              "  </thead>\n",
              "  <tbody>\n",
              "    <tr>\n",
              "      <th>0</th>\n",
              "      <td>75001</td>\n",
              "      <td>1/1/2018</td>\n",
              "      <td>1440</td>\n",
              "      <td>0</td>\n",
              "      <td>weekday</td>\n",
              "      <td>110</td>\n",
              "      <td>103</td>\n",
              "      <td>3</td>\n",
              "      <td>2</td>\n",
              "      <td>10</td>\n",
              "      <td>9</td>\n",
              "      <td>22</td>\n",
              "      <td>20</td>\n",
              "      <td>Monday</td>\n",
              "    </tr>\n",
              "    <tr>\n",
              "      <th>1</th>\n",
              "      <td>75001</td>\n",
              "      <td>1/2/2018</td>\n",
              "      <td>1438</td>\n",
              "      <td>1</td>\n",
              "      <td>weekday</td>\n",
              "      <td>98</td>\n",
              "      <td>94</td>\n",
              "      <td>1</td>\n",
              "      <td>1</td>\n",
              "      <td>8</td>\n",
              "      <td>8</td>\n",
              "      <td>23</td>\n",
              "      <td>22</td>\n",
              "      <td>Tuesday</td>\n",
              "    </tr>\n",
              "    <tr>\n",
              "      <th>2</th>\n",
              "      <td>75001</td>\n",
              "      <td>1/3/2018</td>\n",
              "      <td>1439</td>\n",
              "      <td>2</td>\n",
              "      <td>weekday</td>\n",
              "      <td>138</td>\n",
              "      <td>139</td>\n",
              "      <td>0</td>\n",
              "      <td>0</td>\n",
              "      <td>2</td>\n",
              "      <td>2</td>\n",
              "      <td>27</td>\n",
              "      <td>27</td>\n",
              "      <td>Wednesday</td>\n",
              "    </tr>\n",
              "    <tr>\n",
              "      <th>3</th>\n",
              "      <td>75001</td>\n",
              "      <td>1/4/2018</td>\n",
              "      <td>1320</td>\n",
              "      <td>3</td>\n",
              "      <td>weekday</td>\n",
              "      <td>104</td>\n",
              "      <td>104</td>\n",
              "      <td>2</td>\n",
              "      <td>2</td>\n",
              "      <td>9</td>\n",
              "      <td>8</td>\n",
              "      <td>25</td>\n",
              "      <td>21</td>\n",
              "      <td>Thursday</td>\n",
              "    </tr>\n",
              "    <tr>\n",
              "      <th>4</th>\n",
              "      <td>75001</td>\n",
              "      <td>1/5/2018</td>\n",
              "      <td>1440</td>\n",
              "      <td>4</td>\n",
              "      <td>weekday</td>\n",
              "      <td>114</td>\n",
              "      <td>117</td>\n",
              "      <td>3</td>\n",
              "      <td>3</td>\n",
              "      <td>6</td>\n",
              "      <td>6</td>\n",
              "      <td>18</td>\n",
              "      <td>20</td>\n",
              "      <td>Friday</td>\n",
              "    </tr>\n",
              "  </tbody>\n",
              "</table>\n",
              "</div>"
            ],
            "text/plain": [
              "   Postal code      date  ...  Slots_taken_sum  day_of_week\n",
              "0        75001  1/1/2018  ...               20       Monday\n",
              "1        75001  1/2/2018  ...               22      Tuesday\n",
              "2        75001  1/3/2018  ...               27    Wednesday\n",
              "3        75001  1/4/2018  ...               21     Thursday\n",
              "4        75001  1/5/2018  ...               20       Friday\n",
              "\n",
              "[5 rows x 14 columns]"
            ]
          },
          "metadata": {},
          "execution_count": 171
        }
      ]
    },
    {
      "cell_type": "code",
      "metadata": {
        "colab": {
          "base_uri": "https://localhost:8080/",
          "height": 192
        },
        "id": "wXGLeO-iJVL5",
        "outputId": "81f19677-5a84-4ee2-94d6-7292bbc6846e"
      },
      "source": [
        "#Dropping the irrelevant columns\n",
        "df.drop(df[['Utilib_taken_sum','Utilib_returned_sum', 'Utilib_14_taken_sum', 'Utilib_14_returned_sum','Slots_freed_sum', 'Slots_taken_sum']],axis=1,inplace=True)\n",
        "df.head(4)\n"
      ],
      "execution_count": 172,
      "outputs": [
        {
          "output_type": "execute_result",
          "data": {
            "text/html": [
              "<div>\n",
              "<style scoped>\n",
              "    .dataframe tbody tr th:only-of-type {\n",
              "        vertical-align: middle;\n",
              "    }\n",
              "\n",
              "    .dataframe tbody tr th {\n",
              "        vertical-align: top;\n",
              "    }\n",
              "\n",
              "    .dataframe thead th {\n",
              "        text-align: right;\n",
              "    }\n",
              "</style>\n",
              "<table border=\"1\" class=\"dataframe\">\n",
              "  <thead>\n",
              "    <tr style=\"text-align: right;\">\n",
              "      <th></th>\n",
              "      <th>Postal code</th>\n",
              "      <th>date</th>\n",
              "      <th>n_daily_data_points</th>\n",
              "      <th>dayOfWeek</th>\n",
              "      <th>day_type</th>\n",
              "      <th>BlueCars_taken_sum</th>\n",
              "      <th>BlueCars_returned_sum</th>\n",
              "      <th>day_of_week</th>\n",
              "    </tr>\n",
              "  </thead>\n",
              "  <tbody>\n",
              "    <tr>\n",
              "      <th>0</th>\n",
              "      <td>75001</td>\n",
              "      <td>1/1/2018</td>\n",
              "      <td>1440</td>\n",
              "      <td>0</td>\n",
              "      <td>weekday</td>\n",
              "      <td>110</td>\n",
              "      <td>103</td>\n",
              "      <td>Monday</td>\n",
              "    </tr>\n",
              "    <tr>\n",
              "      <th>1</th>\n",
              "      <td>75001</td>\n",
              "      <td>1/2/2018</td>\n",
              "      <td>1438</td>\n",
              "      <td>1</td>\n",
              "      <td>weekday</td>\n",
              "      <td>98</td>\n",
              "      <td>94</td>\n",
              "      <td>Tuesday</td>\n",
              "    </tr>\n",
              "    <tr>\n",
              "      <th>2</th>\n",
              "      <td>75001</td>\n",
              "      <td>1/3/2018</td>\n",
              "      <td>1439</td>\n",
              "      <td>2</td>\n",
              "      <td>weekday</td>\n",
              "      <td>138</td>\n",
              "      <td>139</td>\n",
              "      <td>Wednesday</td>\n",
              "    </tr>\n",
              "    <tr>\n",
              "      <th>3</th>\n",
              "      <td>75001</td>\n",
              "      <td>1/4/2018</td>\n",
              "      <td>1320</td>\n",
              "      <td>3</td>\n",
              "      <td>weekday</td>\n",
              "      <td>104</td>\n",
              "      <td>104</td>\n",
              "      <td>Thursday</td>\n",
              "    </tr>\n",
              "  </tbody>\n",
              "</table>\n",
              "</div>"
            ],
            "text/plain": [
              "   Postal code      date  ...  BlueCars_returned_sum  day_of_week\n",
              "0        75001  1/1/2018  ...                    103       Monday\n",
              "1        75001  1/2/2018  ...                     94      Tuesday\n",
              "2        75001  1/3/2018  ...                    139    Wednesday\n",
              "3        75001  1/4/2018  ...                    104     Thursday\n",
              "\n",
              "[4 rows x 8 columns]"
            ]
          },
          "metadata": {},
          "execution_count": 172
        }
      ]
    },
    {
      "cell_type": "markdown",
      "metadata": {
        "id": "rF2ABPsHUtbZ"
      },
      "source": [
        "#5.Exploratory Analysis"
      ]
    },
    {
      "cell_type": "markdown",
      "metadata": {
        "id": "s1pIbR6UL9zk"
      },
      "source": [
        "##5.1 Univariate Data Analysis"
      ]
    },
    {
      "cell_type": "code",
      "metadata": {
        "id": "6UzyQC6kmdBi",
        "colab": {
          "base_uri": "https://localhost:8080/"
        },
        "outputId": "35bc4ce3-8c0d-46f4-ca03-d09178db7876"
      },
      "source": [
        "#Numerical variables\n",
        "#Measures of central tendency for the bluecars taken\n",
        "#Mode \n",
        "taken_mode = df['BlueCars_taken_sum'].mode()\n",
        "print(\"The mode of the bluecars taken sum is: '\\n\", taken_mode)\n",
        "print('\\n')\n",
        "\n",
        "# Median\n",
        "taken_median = df['BlueCars_taken_sum'].median()\n",
        "print(\"The median of the bluecars taken': \", taken_median)\n",
        "print('\\n')\n",
        "\n",
        "# Mean \n",
        "taken_mode = df['BlueCars_taken_sum'].mean()\n",
        "print(\"The average bluecars taken is: \", taken_mode)"
      ],
      "execution_count": 173,
      "outputs": [
        {
          "output_type": "stream",
          "name": "stdout",
          "text": [
            "The mode of the bluecars taken sum is: '\n",
            " 0    12\n",
            "dtype: int64\n",
            "\n",
            "\n",
            "The median of the bluecars taken':  46.0\n",
            "\n",
            "\n",
            "The average bluecars taken is:  125.92695057506994\n"
          ]
        }
      ]
    },
    {
      "cell_type": "code",
      "metadata": {
        "colab": {
          "base_uri": "https://localhost:8080/"
        },
        "id": "UQvJ5E43SKH9",
        "outputId": "b4509242-8426-4c22-a17d-d7f352324da6"
      },
      "source": [
        "#Measures of central tendency for the bluecars returned\n",
        "#Mode \n",
        "returned_mode = df['BlueCars_returned_sum'].mode()\n",
        "print(\"The mode of the bluecars returned sum is: '\\n\", taken_mode)\n",
        "print('\\n')\n",
        "\n",
        "# Median\n",
        "returned_median = df['BlueCars_returned_sum'].median()\n",
        "print(\"The median of the bluecars returned': \", taken_median)\n",
        "print('\\n')\n",
        "\n",
        "# Mean \n",
        "returned_mode = df['BlueCars_returned_sum'].mean()\n",
        "print(\"The average bluecars returned is: \", taken_mode)"
      ],
      "execution_count": 174,
      "outputs": [
        {
          "output_type": "stream",
          "name": "stdout",
          "text": [
            "The mode of the bluecars returned sum is: '\n",
            " 125.92695057506994\n",
            "\n",
            "\n",
            "The median of the bluecars returned':  46.0\n",
            "\n",
            "\n",
            "The average bluecars returned is:  125.92695057506994\n"
          ]
        }
      ]
    },
    {
      "cell_type": "code",
      "metadata": {
        "colab": {
          "base_uri": "https://localhost:8080/"
        },
        "id": "Itskz1X_SsCI",
        "outputId": "e5437338-7b34-4343-c54e-8f3609c8fa23"
      },
      "source": [
        "# Standard deviation\n",
        "# Standard deviation of respondents age\n",
        "std_taken = df['BlueCars_taken_sum'].std()\n",
        "print(\"The standard deviation of the BlueCars taken is: \", std_taken)\n",
        "# Standard deviation of household_size\n",
        "std_return = df['BlueCars_returned_sum'].std()\n",
        "print(\"The standard deviation of BlueCars_returned is: \", std_return)"
      ],
      "execution_count": 175,
      "outputs": [
        {
          "output_type": "stream",
          "name": "stdout",
          "text": [
            "The standard deviation of the BlueCars taken is:  185.42657876727893\n",
            "The standard deviation of BlueCars_returned is:  185.50153480148427\n"
          ]
        }
      ]
    },
    {
      "cell_type": "code",
      "metadata": {
        "colab": {
          "base_uri": "https://localhost:8080/"
        },
        "id": "ebkt4yryd3Wr",
        "outputId": "3ebf0f71-5410-44f0-9679-35c00faa5c8c"
      },
      "source": [
        "# Variance\n",
        "# Variance of respondents age\n",
        "taken_var = df['BlueCars_taken_sum'].var()\n",
        "print(\"The variance of the BlueCars taken is: \", taken_var)\n",
        "# Variance of household_size\n",
        "returned_var = df['BlueCars_returned_sum'].var()\n",
        "print(\"The variance of BlueCars_returned_sum is: \", returned_var)"
      ],
      "execution_count": 176,
      "outputs": [
        {
          "output_type": "stream",
          "name": "stdout",
          "text": [
            "The variance of the BlueCars taken is:  34383.01611333789\n",
            "The variance of BlueCars_returned_sum is:  34410.819413706275\n"
          ]
        }
      ]
    },
    {
      "cell_type": "code",
      "metadata": {
        "colab": {
          "base_uri": "https://localhost:8080/"
        },
        "id": "9BvpnMi0iagO",
        "outputId": "1d59e047-5eee-4dc2-ea58-733fb3e11431"
      },
      "source": [
        "# Range\n",
        "#Rage of household_size and respondent age\n",
        "range= (df[\"BlueCars_taken_sum\"].max())-(df[\"BlueCars_taken_sum\"].min())\n",
        "print(\"The range of BlueCars_taken_sum is:  \",range)\n",
        "range2= (df[\"BlueCars_returned_sum\"].max())-(df[\"BlueCars_returned_sum\"].min())\n",
        "print(\"The range of BlueCars_returned_sum is:  \",range2)"
      ],
      "execution_count": 177,
      "outputs": [
        {
          "output_type": "stream",
          "name": "stdout",
          "text": [
            "The range of BlueCars_taken_sum is:   1352\n",
            "The range of BlueCars_returned_sum is:   1332\n"
          ]
        }
      ]
    },
    {
      "cell_type": "code",
      "metadata": {
        "colab": {
          "base_uri": "https://localhost:8080/"
        },
        "id": "uHp4TzrnieII",
        "outputId": "4754c02d-b71d-4bc3-c24a-b061f150443e"
      },
      "source": [
        "# Finding the quantiles of household_size\n",
        "q_taken = df[\"BlueCars_taken_sum\"].quantile([0.25,0.5,0.75])\n",
        "print(q_taken)\n",
        "# Finding the quantiles of Respondent Age\n",
        "q_returned = df[\"BlueCars_returned_sum\"].quantile([0.25,0.5,0.75])\n",
        "print(q_returned)"
      ],
      "execution_count": 178,
      "outputs": [
        {
          "output_type": "stream",
          "name": "stdout",
          "text": [
            "0.25     20.0\n",
            "0.50     46.0\n",
            "0.75    135.0\n",
            "Name: BlueCars_taken_sum, dtype: float64\n",
            "0.25     20.0\n",
            "0.50     46.0\n",
            "0.75    135.0\n",
            "Name: BlueCars_returned_sum, dtype: float64\n"
          ]
        }
      ]
    },
    {
      "cell_type": "code",
      "metadata": {
        "colab": {
          "base_uri": "https://localhost:8080/"
        },
        "id": "7xtnayxCimax",
        "outputId": "36835642-fec9-49c7-e1a7-e9c63e0607b3"
      },
      "source": [
        "# Determining the skeweness\n",
        "taken_skew= df[\"BlueCars_taken_sum\"].skew()\n",
        "print(\"The skewness of the BlueCars_taken is: \\n\", taken_skew)\n",
        "if taken_skew == 0:\n",
        "  print(\"The distribution is symmetrical\")\n",
        "elif taken_skew > 0:\n",
        "  print(\"The distribution is positively skewed\")\n",
        "else:\n",
        "  print(\"The distribution is negatively skewed\")\n",
        "print('\\n')"
      ],
      "execution_count": 179,
      "outputs": [
        {
          "output_type": "stream",
          "name": "stdout",
          "text": [
            "The skewness of the BlueCars_taken is: \n",
            " 2.4063548974959086\n",
            "The distribution is positively skewed\n",
            "\n",
            "\n"
          ]
        }
      ]
    },
    {
      "cell_type": "code",
      "metadata": {
        "colab": {
          "base_uri": "https://localhost:8080/"
        },
        "id": "EpJoGbk9irK_",
        "outputId": "53d0e3b8-eeb6-4155-a4bf-dec65c6a57d5"
      },
      "source": [
        "# Determining the kurtosis \n",
        "taken_kurt= df[\"BlueCars_taken_sum\"].kurt()\n",
        "print(\"The kurtosis of the BlueCars_taken is: \\n\", taken_kurt)\n",
        "if taken_kurt > 0:\n",
        "  print(\"The household size column is leptokurtic\")\n",
        "elif taken_kurt < 0:\n",
        "  print(\"The household size is platykurtic\")\n",
        "else:\n",
        "  print(\"The household size is mesokurtic\")\n",
        "print('\\n') "
      ],
      "execution_count": 180,
      "outputs": [
        {
          "output_type": "stream",
          "name": "stdout",
          "text": [
            "The kurtosis of the BlueCars_taken is: \n",
            " 6.172692305510042\n",
            "The household size column is leptokurtic\n",
            "\n",
            "\n"
          ]
        }
      ]
    },
    {
      "cell_type": "code",
      "metadata": {
        "colab": {
          "base_uri": "https://localhost:8080/"
        },
        "id": "IpOrsdzRiuez",
        "outputId": "8ccd188d-d439-4991-aff8-0e9bbf4d6e77"
      },
      "source": [
        "#Displaying the summary statistics of the dataframe\n",
        "#\n",
        "taken= df[\"BlueCars_taken_sum\"].describe()\n",
        "returned= df[\"BlueCars_returned_sum\"].describe()\n",
        "print(taken)\n",
        "print(returned)"
      ],
      "execution_count": 181,
      "outputs": [
        {
          "output_type": "stream",
          "name": "stdout",
          "text": [
            "count    16085.000000\n",
            "mean       125.926951\n",
            "std        185.426579\n",
            "min          0.000000\n",
            "25%         20.000000\n",
            "50%         46.000000\n",
            "75%        135.000000\n",
            "max       1352.000000\n",
            "Name: BlueCars_taken_sum, dtype: float64\n",
            "count    16085.000000\n",
            "mean       125.912714\n",
            "std        185.501535\n",
            "min          0.000000\n",
            "25%         20.000000\n",
            "50%         46.000000\n",
            "75%        135.000000\n",
            "max       1332.000000\n",
            "Name: BlueCars_returned_sum, dtype: float64\n"
          ]
        }
      ]
    },
    {
      "cell_type": "code",
      "metadata": {
        "colab": {
          "base_uri": "https://localhost:8080/",
          "height": 458
        },
        "id": "CJduGRshmun9",
        "outputId": "fc1ba36f-fdfd-41db-9f2b-dc2fa1918c63"
      },
      "source": [
        "# Histogram of the days of the week\n",
        "day = df['day_type']\n",
        "fig=plt.figure(figsize=(9,7))\n",
        "plt.hist(day, bins=2, histtype='bar', color='blue', rwidth=0.9)\n",
        "plt.title(\"Histogram of the type of days \", fontweight='bold')\n",
        "plt.xlabel(\"Day\")\n",
        "plt.ylabel(\"Number of days\")\n",
        "plt.show()"
      ],
      "execution_count": 182,
      "outputs": [
        {
          "output_type": "display_data",
          "data": {
            "image/png": "[encoded data removed]",
            "text/plain": [
              "<Figure size 648x504 with 1 Axes>"
            ]
          },
          "metadata": {
            "needs_background": "light"
          }
        }
      ]
    },
    {
      "cell_type": "code",
      "metadata": {
        "colab": {
          "base_uri": "https://localhost:8080/",
          "height": 458
        },
        "id": "6woVAJHDlFD0",
        "outputId": "b0c8f338-ee11-4eff-9bff-cf6283edb7cc"
      },
      "source": [
        "# Histogram of the days of the week\n",
        "day = df['day_of_week']\n",
        "fig=plt.figure(figsize=(9,7))\n",
        "plt.hist(day, bins=7, histtype='bar', color='green', rwidth=0.9)\n",
        "plt.title(\"Histogram of the days of the week\", fontweight='bold')\n",
        "plt.xlabel(\"Day\")\n",
        "plt.ylabel(\"Number of days\")\n",
        "plt.show()"
      ],
      "execution_count": 183,
      "outputs": [
        {
          "output_type": "display_data",
          "data": {
            "image/png": "[encoded data removed]",
            "text/plain": [
              "<Figure size 648x504 with 1 Axes>"
            ]
          },
          "metadata": {
            "needs_background": "light"
          }
        }
      ]
    },
    {
      "cell_type": "code",
      "metadata": {
        "colab": {
          "base_uri": "https://localhost:8080/",
          "height": 286
        },
        "id": "X-tnQId4mmns",
        "outputId": "f4e34e85-38a1-434f-97bd-fcaa8e592b95"
      },
      "source": [
        "# Pie chart \n",
        "# Pie chart for the days of the week\n",
        "df['day_of_week'].value_counts().plot(kind='pie',shadow = True,explode=(0,0.1,0,0,0,0,0), colors=['green',\"blue\",\"red\",\"violet\",\"grey\",\"brown\",'yellow'], autopct='%1.1f%%')\n",
        "plt.title(\"Pie chart of the days of the week\", y=1.1)\n",
        "plt.show()"
      ],
      "execution_count": 184,
      "outputs": [
        {
          "output_type": "display_data",
          "data": {
            "image/png": "[encoded data removed]",
            "text/plain": [
              "<Figure size 432x288 with 1 Axes>"
            ]
          },
          "metadata": {}
        }
      ]
    },
    {
      "cell_type": "code",
      "metadata": {
        "colab": {
          "base_uri": "https://localhost:8080/",
          "height": 286
        },
        "id": "a6fZx3QZnbNO",
        "outputId": "eb3c4f40-369a-4fb5-933b-5436d95da2ad"
      },
      "source": [
        "# Pie chart for the days of the week\n",
        "df['day_type'].value_counts().plot(kind='pie',shadow = True,explode=(0,0.1), colors=[\"blue\",\"red\"], autopct='%1.1f%%')\n",
        "plt.title(\"Pie chart of the type of day\", y=1.1)\n",
        "plt.show()"
      ],
      "execution_count": 185,
      "outputs": [
        {
          "output_type": "display_data",
          "data": {
            "image/png": "[encoded data removed]",
            "text/plain": [
              "<Figure size 432x288 with 1 Axes>"
            ]
          },
          "metadata": {}
        }
      ]
    },
    {
      "cell_type": "code",
      "metadata": {
        "colab": {
          "base_uri": "https://localhost:8080/",
          "height": 583
        },
        "id": "rZM1CenFna2f",
        "outputId": "999d4792-acf3-4730-b339-998c24767559"
      },
      "source": [
        "#boxplots\n",
        "fig, (ax1, ax2) = plt.subplots(2,1, figsize=(10, 7))\n",
        "fig.suptitle('Boxplots')\n",
        "sns.boxplot(df['BlueCars_taken_sum'], ax=ax1)\n",
        "sns.boxplot(df['BlueCars_returned_sum'], ax=ax2)\n",
        "plt.show()"
      ],
      "execution_count": 186,
      "outputs": [
        {
          "output_type": "stream",
          "name": "stderr",
          "text": [
            "/usr/local/lib/python3.7/dist-packages/seaborn/_decorators.py:43: FutureWarning: Pass the following variable as a keyword arg: x. From version 0.12, the only valid positional argument will be `data`, and passing other arguments without an explicit keyword will result in an error or misinterpretation.\n",
            "  FutureWarning\n",
            "/usr/local/lib/python3.7/dist-packages/seaborn/_decorators.py:43: FutureWarning: Pass the following variable as a keyword arg: x. From version 0.12, the only valid positional argument will be `data`, and passing other arguments without an explicit keyword will result in an error or misinterpretation.\n",
            "  FutureWarning\n"
          ]
        },
        {
          "output_type": "display_data",
          "data": {
            "image/png": "[encoded data removed]",
            "text/plain": [
              "<Figure size 720x504 with 2 Axes>"
            ]
          },
          "metadata": {
            "needs_background": "light"
          }
        }
      ]
    },
    {
      "cell_type": "markdown",
      "metadata": {
        "id": "jwKJUvzOsjhL"
      },
      "source": [
        "##5.2 Bivariate Analysis"
      ]
    },
    {
      "cell_type": "code",
      "metadata": {
        "colab": {
          "base_uri": "https://localhost:8080/",
          "height": 281
        },
        "id": "6dLWb5c5s0vs",
        "outputId": "79445aff-c0a6-412f-cf1c-a577f5f83b0e"
      },
      "source": [
        "#Ctegorical and Numerical variables\n",
        "# Line graph for daily data points\n",
        "points = df.groupby('day_of_week')['n_daily_data_points'].sum().reset_index(name= 'total_n_daily_data_points')\n",
        "x = points['day_of_week']\n",
        "y= points['total_n_daily_data_points']\n",
        "plt.title(\"Line graph for the total data points per day\")\n",
        "plt.plot(x,y, color = 'green')\n",
        "plt.show()"
      ],
      "execution_count": 187,
      "outputs": [
        {
          "output_type": "display_data",
          "data": {
            "image/png": "[encoded data removed]",
            "text/plain": [
              "<Figure size 432x288 with 1 Axes>"
            ]
          },
          "metadata": {
            "needs_background": "light"
          }
        }
      ]
    },
    {
      "cell_type": "code",
      "metadata": {
        "colab": {
          "base_uri": "https://localhost:8080/",
          "height": 281
        },
        "id": "QoHtygscs0sO",
        "outputId": "463f828f-774c-4497-9e1e-69634117aecc"
      },
      "source": [
        "# Line graph for daily data points\n",
        "points= df.groupby('day_of_week')['BlueCars_taken_sum'].sum().reset_index(name= 'BlueCars_taken_sum')\n",
        "x = points['day_of_week']\n",
        "y= points['BlueCars_taken_sum']\n",
        "plt.title(\"Line graph for the BlueCars_taken_sum per day\", fontweight='bold')\n",
        "plt.plot(x,y, color = \"brown\")\n",
        "plt.show()"
      ],
      "execution_count": 188,
      "outputs": [
        {
          "output_type": "display_data",
          "data": {
            "image/png": "[encoded data removed]",
            "text/plain": [
              "<Figure size 432x288 with 1 Axes>"
            ]
          },
          "metadata": {
            "needs_background": "light"
          }
        }
      ]
    },
    {
      "cell_type": "code",
      "metadata": {
        "colab": {
          "base_uri": "https://localhost:8080/",
          "height": 281
        },
        "id": "tzYH_c0ds0fP",
        "outputId": "30777b18-6862-4514-8db3-4fe80302baea"
      },
      "source": [
        "# Line graph for daily data points\n",
        "points = df.groupby('day_of_week')['BlueCars_returned_sum'].sum().reset_index(name= 'BlueCars_returned_sum')\n",
        "x = points['day_of_week']\n",
        "y= points['BlueCars_returned_sum']\n",
        "plt.title(\"Line graph for the BlueCars_returned_sum per day\", fontweight='bold')\n",
        "plt.plot(x,y, color = 'blue', linestyle = '--' )\n",
        "plt.show()"
      ],
      "execution_count": 189,
      "outputs": [
        {
          "output_type": "display_data",
          "data": {
            "image/png": "[encoded data removed]",
            "text/plain": [
              "<Figure size 432x288 with 1 Axes>"
            ]
          },
          "metadata": {
            "needs_background": "light"
          }
        }
      ]
    },
    {
      "cell_type": "code",
      "metadata": {
        "colab": {
          "base_uri": "https://localhost:8080/",
          "height": 317
        },
        "id": "ABD-XiRLwOvR",
        "outputId": "d6c567d7-b999-47f4-de97-92cc782685b3"
      },
      "source": [
        "#Numerical and numerical variables\n",
        "# Scatter plot of the total bluecars taken per day\n",
        "size=df.groupby('dayOfWeek')['BlueCars_taken_sum'].sum().reset_index(name='total number of cars taken per day')\n",
        "size\n",
        "plt.scatter(size[\"dayOfWeek\"] , size[\"total number of cars taken per day\"], c='g')\n",
        "plt.xlabel(\"Day of week\")\n",
        "plt.ylabel(\"Total number of cars taken\")\n",
        "plt.title(\"Scatter plot of total bluecars taken per day\", y=1.1)\n",
        "plt.show()"
      ],
      "execution_count": 190,
      "outputs": [
        {
          "output_type": "display_data",
          "data": {
            "image/png": "[encoded data removed]",
            "text/plain": [
              "<Figure size 432x288 with 1 Axes>"
            ]
          },
          "metadata": {
            "needs_background": "light"
          }
        }
      ]
    },
    {
      "cell_type": "code",
      "metadata": {
        "colab": {
          "base_uri": "https://localhost:8080/",
          "height": 317
        },
        "id": "LSvx0gQ6EEnA",
        "outputId": "506e0090-c3f0-4fa6-a9ed-1c8d30f6401d"
      },
      "source": [
        "# Scatter plot of the total bluecars returned per day\n",
        "\n",
        "siz=df.groupby('dayOfWeek')['BlueCars_returned_sum'].sum().reset_index(name='total number of cars returned per day')\n",
        "siz\n",
        "plt.scatter(siz[\"dayOfWeek\"] , siz[\"total number of cars returned per day\"], c='g')\n",
        "plt.xlabel(\"Day of week\")\n",
        "plt.ylabel(\"Total number of cars returned\")\n",
        "plt.title(\"Scatter plot of total bluecars returned per day\", y=1.1)\n",
        "plt.show()"
      ],
      "execution_count": 191,
      "outputs": [
        {
          "output_type": "display_data",
          "data": {
            "image/png": "[encoded data removed]",
            "text/plain": [
              "<Figure size 432x288 with 1 Axes>"
            ]
          },
          "metadata": {
            "needs_background": "light"
          }
        }
      ]
    },
    {
      "cell_type": "code",
      "metadata": {
        "colab": {
          "base_uri": "https://localhost:8080/",
          "height": 378
        },
        "id": "jf9LVIcTs0GC",
        "outputId": "9d98a6f4-53e5-4b26-f850-34220116cdfe"
      },
      "source": [
        "# Correlation using a heatmap\n",
        "\n",
        "sns.heatmap(df.corr(),annot=True)\n",
        "plt.show()\n",
        "\n",
        "#there is a strong correlation between the Bluecars taken and the blue cars returned."
      ],
      "execution_count": 192,
      "outputs": [
        {
          "output_type": "display_data",
          "data": {
            "image/png": "[encoded data removed]",
            "text/plain": [
              "<Figure size 432x288 with 2 Axes>"
            ]
          },
          "metadata": {
            "needs_background": "light"
          }
        }
      ]
    },
    {
      "cell_type": "markdown",
      "metadata": {
        "id": "vTbdjSrhVIiT"
      },
      "source": [
        "# 6.Implementing the Solution"
      ]
    },
    {
      "cell_type": "markdown",
      "metadata": {
        "id": "6fIBYyv47HwM"
      },
      "source": [
        "#  Hypothesis Testing"
      ]
    },
    {
      "cell_type": "markdown",
      "metadata": {
        "id": "q5RENDufw5ac"
      },
      "source": [
        "As a Data Scientist for the Autolib electric car-sharing service company, investigate a claim about the blue cars from the provided Autolib dataset.\n",
        "\n",
        "**Null Hypothesis** :\n",
        "The number of Blue cars taken on weekdays are more than the number of Blue cars taken on weekends\n",
        "\n",
        "**Alternative Hypothesis** : \n",
        "The number of Blue cars taken on week days are not more than the number of Blue cars taken on weekends.\n",
        "\n"
      ]
    },
    {
      "cell_type": "code",
      "metadata": {
        "id": "KjfRrxTL23Sm"
      },
      "source": [
        "#defining our hypothesis population\n",
        "pop= df[[\"day_type\",\"BlueCars_taken_sum\"]]\n",
        "\n",
        "wkday=pop.loc[(pop[\"day_type\"]==\"weekday\")]\n",
        "wkend=pop.loc[(pop[\"day_type\"]==\"weekend\")]"
      ],
      "execution_count": 193,
      "outputs": []
    },
    {
      "cell_type": "code",
      "metadata": {
        "colab": {
          "base_uri": "https://localhost:8080/",
          "height": 279
        },
        "id": "qHRXjfY99uN8",
        "outputId": "d9da6d7a-6e01-40fd-ec44-3a54a9fe75f0"
      },
      "source": [
        "#Checking normality of our sample\n",
        "from matplotlib import pyplot\n",
        "from statsmodels.graphics.gofplots import qqplot\n",
        "qqplot(pop['BlueCars_taken_sum'],line='s')\n",
        "pyplot.show()"
      ],
      "execution_count": 194,
      "outputs": [
        {
          "output_type": "display_data",
          "data": {
            "image/png": "[encoded data removed]",
            "text/plain": [
              "<Figure size 432x288 with 1 Axes>"
            ]
          },
          "metadata": {
            "needs_background": "light"
          }
        }
      ]
    },
    {
      "cell_type": "code",
      "metadata": {
        "id": "XgNj4l0J4xKv"
      },
      "source": [
        "#picking the sample size that we need\n",
        "import random\n",
        "sample_1 =wkday[\"BlueCars_taken_sum\"].sample(n = 100,random_state=1)\n",
        "sample_2 = wkend[\"BlueCars_taken_sum\"].sample(n = 100,random_state=1)"
      ],
      "execution_count": 195,
      "outputs": []
    },
    {
      "cell_type": "code",
      "metadata": {
        "colab": {
          "base_uri": "https://localhost:8080/"
        },
        "id": "U5rv1Pmt7z3Z",
        "outputId": "85e2af18-eb0f-4348-c959-dd5c168acf31"
      },
      "source": [
        "#importing our library\n",
        "from statsmodels.stats.weightstats import ztest as ztest\n",
        "\n",
        "#perform two sample z-test\n",
        "ztest(sample_1, sample_2, value=0) \n"
      ],
      "execution_count": 196,
      "outputs": [
        {
          "output_type": "execute_result",
          "data": {
            "text/plain": [
              "(-1.4437992453388084, 0.14879545435592487)"
            ]
          },
          "metadata": {},
          "execution_count": 196
        }
      ]
    },
    {
      "cell_type": "code",
      "metadata": {
        "colab": {
          "base_uri": "https://localhost:8080/"
        },
        "id": "TdDU4PhnUKLS",
        "outputId": "2a6f4d2b-72f6-4c4b-b36e-2c77a43113e4"
      },
      "source": [
        "# Interpret the p value by comparing with the significance level\n",
        "\n",
        "alpha = 0.05\n",
        "p_value=0.14879545435592487\n",
        "if p_value < alpha:\n",
        "  print(\"Reject the null hypothesis and accept the alternative hypothesis\")\n",
        "else:\n",
        "  print(\"Fail to reject the null hypothesis\")"
      ],
      "execution_count": 197,
      "outputs": [
        {
          "output_type": "stream",
          "name": "stdout",
          "text": [
            "Fail to reject the null hypothesis\n"
          ]
        }
      ]
    },
    {
      "cell_type": "markdown",
      "metadata": {
        "id": "n2N1BtiatSI3"
      },
      "source": [
        "Conclusion\n",
        "our p_value is greater than our alpha level (0.05)\n",
        "Since the p-value is greater than 0.05, we fail to reject the null hypothesis and clearly state that the We have enough evidence to say that more Blue cars are taken on weekdays than on weekends \n",
        "\n",
        "Recommendation\n",
        "The autolib company should avail more cars during the week as we have a huge market base that needs to be tapped.\n"
      ]
    }
  ]
}